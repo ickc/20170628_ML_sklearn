{
 "cells": [
  {
   "cell_type": "markdown",
   "metadata": {},
   "source": [
    "In this notebook, we will discuss some common practices that we skipped in the previous notebooks. These common practices will help us to train a model that generalize well, that is perform well on the new data that we want to predict. "
   ]
  },
  {
   "cell_type": "code",
   "execution_count": 1,
   "metadata": {
    "collapsed": true
   },
   "outputs": [],
   "source": [
    "from sklearn import datasets\n",
    "import numpy as np\n",
    "import matplotlib.pyplot as plt\n",
    "\n",
    "plt.style.use('seaborn-poster')\n",
    "\n",
    "%matplotlib inline"
   ]
  },
  {
   "cell_type": "markdown",
   "metadata": {},
   "source": [
    "## Classification Example"
   ]
  },
  {
   "cell_type": "code",
   "execution_count": 2,
   "metadata": {
    "collapsed": true
   },
   "outputs": [],
   "source": [
    "from sklearn.model_selection import train_test_split\n",
    "from sklearn import metrics\n",
    "from sklearn import preprocessing"
   ]
  },
  {
   "cell_type": "code",
   "execution_count": 3,
   "metadata": {
    "collapsed": false
   },
   "outputs": [
    {
     "name": "stdout",
     "output_type": "stream",
     "text": [
      "(112, 4) (112,)\n"
     ]
    }
   ],
   "source": [
    "#get the dataset\n",
    "iris = datasets.load_iris()\n",
    "X, y = iris.data, iris.target\n",
    "\n",
    "# Split the dataset into a training and a testing set\n",
    "# Test set will be the 25% taken randomly\n",
    "X_train, X_test, y_train, y_test = train_test_split(X, y,\n",
    " test_size=0.25, random_state=33)\n",
    "print(X_train.shape, y_train.shape)"
   ]
  },
  {
   "cell_type": "markdown",
   "metadata": {},
   "source": [
    "Let's standardize the input features"
   ]
  },
  {
   "cell_type": "code",
   "execution_count": 4,
   "metadata": {
    "collapsed": true
   },
   "outputs": [],
   "source": [
    "# Standardize the features\n",
    "scaler = preprocessing.StandardScaler().fit(X_train)\n",
    "X_train = scaler.transform(X_train)\n",
    "X_test = scaler.transform(X_test)"
   ]
  },
  {
   "cell_type": "code",
   "execution_count": 5,
   "metadata": {
    "collapsed": false
   },
   "outputs": [
    {
     "data": {
      "text/plain": [
       "0.94736842105263153"
      ]
     },
     "execution_count": 5,
     "metadata": {},
     "output_type": "execute_result"
    }
   ],
   "source": [
    "#Using svm\n",
    "from sklearn.svm import SVC\n",
    "clf = SVC()\n",
    "clf.fit(X_train, y_train)\n",
    "\n",
    "clf.score(X_test, y_test)"
   ]
  },
  {
   "cell_type": "markdown",
   "metadata": {},
   "source": [
    "## Pipeline"
   ]
  },
  {
   "cell_type": "markdown",
   "metadata": {},
   "source": [
    "We can use [pipeline](http://scikit-learn.org/stable/modules/generated/sklearn.pipeline.Pipeline.html) to chain all the operations into a simple pipeline:"
   ]
  },
  {
   "cell_type": "code",
   "execution_count": 6,
   "metadata": {
    "collapsed": false
   },
   "outputs": [
    {
     "data": {
      "text/plain": [
       "0.94736842105263153"
      ]
     },
     "execution_count": 6,
     "metadata": {},
     "output_type": "execute_result"
    }
   ],
   "source": [
    "from sklearn.pipeline import Pipeline\n",
    "\n",
    "estimators = []\n",
    "estimators.append(('standardize', preprocessing.StandardScaler()))\n",
    "estimators.append(('svm', SVC()))\n",
    "pipe = Pipeline(estimators)\n",
    "\n",
    "pipe.fit(X_train, y_train)\n",
    "\n",
    "pipe.score(X_test, y_test)"
   ]
  },
  {
   "cell_type": "markdown",
   "metadata": {},
   "source": [
    "When evaluating different settings (“hyperparameters”) for estimators, such as the C setting that must be manually set for an SVM, there is still a risk of overfitting on the test set because the parameters can be tweaked until the estimator performs optimally. This way, knowledge about the test set can “leak” into the model and evaluation metrics no longer report on generalization performance. To solve this problem, yet another part of the dataset can be held out as a so-called “validation set”: training proceeds on the training set, after which evaluation is done on the validation set, and when the experiment seems to be successful, final evaluation can be done on the test set.\n",
    "However, by partitioning the available data into three sets, we drastically reduce the number of samples which can be used for learning the model, and the results can depend on a particular random choice for the pair of (train, validation) sets.\n",
    "A solution to this problem is a procedure called cross-validation (CV for short). A test set should still be held out for final evaluation, but the validation set is no longer needed when doing CV. In the basic approach, called k-fold CV, the training set is split into k smaller sets (other approaches are described below, but generally follow the same principles). The following procedure is followed for each of the k “folds”:\n",
    "A model is trained using k-1 of the folds as training data;\n",
    "the resulting model is validated on the remaining part of the data (i.e., it is used as a test set to compute a performance measure such as accuracy).\n",
    "The performance measure reported by k-fold cross-validation is then the average of the values computed in the loop. This approach can be computationally expensive, but does not waste too much data (as it is the case when fixing an arbitrary test set), which is a major advantage in problem such as inverse inference where the number of samples is very small.\n"
   ]
  },
  {
   "cell_type": "markdown",
   "metadata": {},
   "source": [
    "## Computing cross-validated metrics\n",
    "\n",
    "The simplest way to use cross-validation is to call the cross_val_score helper function on the estimator and the dataset."
   ]
  },
  {
   "cell_type": "code",
   "execution_count": 7,
   "metadata": {
    "collapsed": false
   },
   "outputs": [
    {
     "data": {
      "text/plain": [
       "array([ 0.96666667,  0.96666667,  0.96666667,  0.93333333,  1.        ])"
      ]
     },
     "execution_count": 7,
     "metadata": {},
     "output_type": "execute_result"
    }
   ],
   "source": [
    "from sklearn.model_selection import cross_val_score\n",
    "\n",
    "scores = cross_val_score(pipe, X, y, cv=5)\n",
    "scores "
   ]
  },
  {
   "cell_type": "markdown",
   "metadata": {},
   "source": [
    "The mean score and the 95% confidence interval of the score estimate are hence given by:"
   ]
  },
  {
   "cell_type": "code",
   "execution_count": 8,
   "metadata": {
    "collapsed": false
   },
   "outputs": [
    {
     "name": "stdout",
     "output_type": "stream",
     "text": [
      "Accuracy: 0.97 (+/- 0.02)\n"
     ]
    }
   ],
   "source": [
    "print(\"Accuracy: %0.2f (+/- %0.2f)\" % (scores.mean(), scores.std()))"
   ]
  },
  {
   "cell_type": "markdown",
   "metadata": {},
   "source": [
    "It is also possible to use other cross validation strategies by passing a cross validation iterator instead, for instance:"
   ]
  },
  {
   "cell_type": "code",
   "execution_count": 9,
   "metadata": {
    "collapsed": true
   },
   "outputs": [],
   "source": [
    "from sklearn.model_selection import ShuffleSplit\n",
    "cv = ShuffleSplit(n_splits=3, test_size=0.3, random_state=0)"
   ]
  },
  {
   "cell_type": "code",
   "execution_count": 10,
   "metadata": {
    "collapsed": false
   },
   "outputs": [
    {
     "data": {
      "text/plain": [
       "array([ 0.97777778,  0.93333333,  0.95555556])"
      ]
     },
     "execution_count": 10,
     "metadata": {},
     "output_type": "execute_result"
    }
   ],
   "source": [
    "cross_val_score(pipe, iris.data, iris.target, cv=cv)"
   ]
  },
  {
   "cell_type": "markdown",
   "metadata": {},
   "source": [
    "## Using cross-validation choose parameters\n",
    "\n",
    "For example, if we want to test different value of C vlaues for the SVM, we can run the following code and decide the best parameter. We can have a look of all the parameters we used in our pipeline by using get_params function. "
   ]
  },
  {
   "cell_type": "code",
   "execution_count": 11,
   "metadata": {
    "collapsed": false
   },
   "outputs": [
    {
     "data": {
      "text/plain": [
       "{'standardize': StandardScaler(copy=True, with_mean=True, with_std=True),\n",
       " 'standardize__copy': True,\n",
       " 'standardize__with_mean': True,\n",
       " 'standardize__with_std': True,\n",
       " 'steps': [('standardize',\n",
       "   StandardScaler(copy=True, with_mean=True, with_std=True)),\n",
       "  ('svm', SVC(C=1.0, cache_size=200, class_weight=None, coef0=0.0,\n",
       "     decision_function_shape=None, degree=3, gamma='auto', kernel='rbf',\n",
       "     max_iter=-1, probability=False, random_state=None, shrinking=True,\n",
       "     tol=0.001, verbose=False))],\n",
       " 'svm': SVC(C=1.0, cache_size=200, class_weight=None, coef0=0.0,\n",
       "   decision_function_shape=None, degree=3, gamma='auto', kernel='rbf',\n",
       "   max_iter=-1, probability=False, random_state=None, shrinking=True,\n",
       "   tol=0.001, verbose=False),\n",
       " 'svm__C': 1.0,\n",
       " 'svm__cache_size': 200,\n",
       " 'svm__class_weight': None,\n",
       " 'svm__coef0': 0.0,\n",
       " 'svm__decision_function_shape': None,\n",
       " 'svm__degree': 3,\n",
       " 'svm__gamma': 'auto',\n",
       " 'svm__kernel': 'rbf',\n",
       " 'svm__max_iter': -1,\n",
       " 'svm__probability': False,\n",
       " 'svm__random_state': None,\n",
       " 'svm__shrinking': True,\n",
       " 'svm__tol': 0.001,\n",
       " 'svm__verbose': False}"
      ]
     },
     "execution_count": 11,
     "metadata": {},
     "output_type": "execute_result"
    }
   ],
   "source": [
    "pipe.get_params()"
   ]
  },
  {
   "cell_type": "code",
   "execution_count": 12,
   "metadata": {
    "collapsed": false
   },
   "outputs": [
    {
     "data": {
      "image/png": "[encoded data removed]",
      "text/plain": [
       "<matplotlib.figure.Figure at 0x7fd1c7a71048>"
      ]
     },
     "metadata": {},
     "output_type": "display_data"
    }
   ],
   "source": [
    "C_s = np.linspace(0.001, 1000, 100)\n",
    "\n",
    "scores = list()\n",
    "scores_std = list()\n",
    "for C in C_s:\n",
    "    pipe.set_params(svm__C = C)\n",
    "    this_scores = cross_val_score(pipe, X, y, n_jobs=1, cv = 5)\n",
    "    scores.append(np.mean(this_scores))\n",
    "    scores_std.append(np.std(this_scores))\n",
    "\n",
    "# Do the plotting\n",
    "plt.figure(1, figsize=(10, 8))\n",
    "plt.clf()\n",
    "plt.semilogx(C_s, scores)\n",
    "plt.semilogx(C_s, np.array(scores) + np.array(scores_std), 'b--')\n",
    "plt.semilogx(C_s, np.array(scores) - np.array(scores_std), 'b--')\n",
    "locs, labels = plt.yticks()\n",
    "plt.yticks(locs, list(map(lambda x: \"%g\" % x, locs)))\n",
    "plt.ylabel('CV score')\n",
    "plt.xlabel('Parameter C')\n",
    "plt.ylim(0.82, 1.04)\n",
    "plt.show()"
   ]
  },
  {
   "cell_type": "markdown",
   "metadata": {},
   "source": [
    "Alternatively, we can use the [GridSearchCV](http://scikit-learn.org/stable/modules/generated/sklearn.model_selection.GridSearchCV.html) to do the same thing:"
   ]
  },
  {
   "cell_type": "code",
   "execution_count": 13,
   "metadata": {
    "collapsed": false
   },
   "outputs": [
    {
     "data": {
      "text/plain": [
       "GridSearchCV(cv=5, error_score='raise',\n",
       "       estimator=Pipeline(steps=[('standardize', StandardScaler(copy=True, with_mean=True, with_std=True)), ('svm', SVC(C=1000.0, cache_size=200, class_weight=None, coef0=0.0,\n",
       "  decision_function_shape=None, degree=3, gamma='auto', kernel='rbf',\n",
       "  max_iter=-1, probability=False, random_state=None, shrinking=True,\n",
       "  tol=0.001, verbose=False))]),\n",
       "       fit_params={}, iid=True, n_jobs=-1,\n",
       "       param_grid={'svm__C': array([  1.00000e-03,   1.01020e+01, ...,   9.89899e+02,   1.00000e+03])},\n",
       "       pre_dispatch='2*n_jobs', refit=True, return_train_score=True,\n",
       "       scoring=None, verbose=0)"
      ]
     },
     "execution_count": 13,
     "metadata": {},
     "output_type": "execute_result"
    }
   ],
   "source": [
    "from sklearn.model_selection import GridSearchCV\n",
    "\n",
    "params = dict(svm__C=np.linspace(0.001, 1000, 100))\n",
    "\n",
    "grid_search = GridSearchCV(estimator=pipe, param_grid=params,n_jobs=-1, cv=5)\n",
    "\n",
    "grid_search.fit(X,y)"
   ]
  },
  {
   "cell_type": "code",
   "execution_count": 14,
   "metadata": {
    "collapsed": false
   },
   "outputs": [
    {
     "data": {
      "text/plain": [
       "0.97333333333333338"
      ]
     },
     "execution_count": 14,
     "metadata": {},
     "output_type": "execute_result"
    }
   ],
   "source": [
    "grid_search.best_score_ "
   ]
  },
  {
   "cell_type": "code",
   "execution_count": 15,
   "metadata": {
    "collapsed": false
   },
   "outputs": [
    {
     "data": {
      "text/plain": [
       "{'svm__C': 10.102}"
      ]
     },
     "execution_count": 15,
     "metadata": {},
     "output_type": "execute_result"
    }
   ],
   "source": [
    "grid_search.best_params_"
   ]
  },
  {
   "cell_type": "code",
   "execution_count": 16,
   "metadata": {
    "collapsed": false
   },
   "outputs": [
    {
     "data": {
      "text/plain": [
       "{'mean_fit_time': array([ 0.0054081 ,  0.00385337,  0.00438766,  0.0025423 ,  0.0013309 ,\n",
       "         0.00149269,  0.00122428,  0.00121813,  0.00158877,  0.00125127,\n",
       "         0.00155072,  0.00122395,  0.00148811,  0.00145206,  0.00123606,\n",
       "         0.00174541,  0.00124793,  0.00185738,  0.00130386,  0.00125442,\n",
       "         0.00175381,  0.0012711 ,  0.00161991,  0.00161319,  0.00190425,\n",
       "         0.00185299,  0.00129418,  0.0020009 ,  0.00197239,  0.00131168,\n",
       "         0.0017972 ,  0.00131526,  0.00161352,  0.00135908,  0.00130587,\n",
       "         0.0016376 ,  0.00133576,  0.00178161,  0.00169873,  0.0014369 ,\n",
       "         0.00196376,  0.00145526,  0.00184755,  0.00146751,  0.00175142,\n",
       "         0.00185928,  0.00223985,  0.00256615,  0.00199561,  0.00189061,\n",
       "         0.00137696,  0.00140543,  0.00171742,  0.00136447,  0.00166564,\n",
       "         0.00184011,  0.00254135,  0.00242219,  0.00137534,  0.00187426,\n",
       "         0.00149875,  0.00218029,  0.00222387,  0.00221672,  0.0025743 ,\n",
       "         0.00234179,  0.00176487,  0.00138054,  0.00169606,  0.00142083,\n",
       "         0.00149279,  0.00172496,  0.00153742,  0.00192065,  0.00159349,\n",
       "         0.00151076,  0.00188556,  0.00142264,  0.00184798,  0.00139847,\n",
       "         0.00169911,  0.00151644,  0.00144892,  0.0019124 ,  0.0015162 ,\n",
       "         0.001895  ,  0.00143576,  0.0014596 ,  0.00174451,  0.00152783,\n",
       "         0.00181055,  0.00175724,  0.0020205 ,  0.00174341,  0.00152373,\n",
       "         0.00275502,  0.00139337,  0.00172181,  0.00164542,  0.0014369 ]),\n",
       " 'mean_score_time': array([ 0.00091515,  0.00088959,  0.00081792,  0.00069475,  0.00048785,\n",
       "         0.00047503,  0.00043554,  0.00043812,  0.00048647,  0.00042906,\n",
       "         0.00047874,  0.00044165,  0.00047445,  0.00054393,  0.00043259,\n",
       "         0.00047417,  0.00047846,  0.00053182,  0.00045257,  0.0004323 ,\n",
       "         0.00049844,  0.00043511,  0.0004847 ,  0.00060372,  0.00053644,\n",
       "         0.00066781,  0.0004364 ,  0.00049095,  0.00056896,  0.00043068,\n",
       "         0.00049787,  0.00043297,  0.00048633,  0.00044107,  0.0004324 ,\n",
       "         0.00048347,  0.00043554,  0.00047841,  0.000525  ,  0.00043926,\n",
       "         0.00053668,  0.00044074,  0.00049   ,  0.00043702,  0.00048604,\n",
       "         0.00060668,  0.00066519,  0.00073295,  0.00063162,  0.00048614,\n",
       "         0.00044255,  0.00043859,  0.00048695,  0.00043693,  0.00047989,\n",
       "         0.0005888 ,  0.00073671,  0.00064487,  0.00043683,  0.00055485,\n",
       "         0.0004961 ,  0.00060487,  0.0006671 ,  0.00066838,  0.00073395,\n",
       "         0.00068045,  0.00049706,  0.00043845,  0.00048299,  0.00044169,\n",
       "         0.00050006,  0.00049572,  0.00049725,  0.00056496,  0.00051131,\n",
       "         0.00048862,  0.00049791,  0.00045614,  0.00051279,  0.00044303,\n",
       "         0.00047789,  0.00047736,  0.00047183,  0.00054069,  0.00046325,\n",
       "         0.0005084 ,  0.00044956,  0.00044084,  0.00049443,  0.00048976,\n",
       "         0.00053034,  0.00049176,  0.00059195,  0.00051646,  0.00049787,\n",
       "         0.00063596,  0.00043764,  0.00049653,  0.00048294,  0.00048633]),\n",
       " 'mean_test_score': array([ 0.88666667,  0.97333333,  0.96666667,  0.96666667,  0.96666667,\n",
       "         0.96666667,  0.96666667,  0.96      ,  0.96      ,  0.95333333,\n",
       "         0.95333333,  0.95333333,  0.95333333,  0.95333333,  0.95333333,\n",
       "         0.95333333,  0.95333333,  0.95333333,  0.95333333,  0.95333333,\n",
       "         0.95333333,  0.95333333,  0.94666667,  0.94666667,  0.94      ,\n",
       "         0.94      ,  0.94      ,  0.94      ,  0.94      ,  0.94      ,\n",
       "         0.94      ,  0.94      ,  0.94      ,  0.94      ,  0.94      ,\n",
       "         0.94      ,  0.94      ,  0.94      ,  0.93333333,  0.93333333,\n",
       "         0.93333333,  0.93333333,  0.93333333,  0.93333333,  0.93333333,\n",
       "         0.93333333,  0.93333333,  0.93333333,  0.93333333,  0.93333333,\n",
       "         0.93333333,  0.93333333,  0.93333333,  0.93333333,  0.93333333,\n",
       "         0.93333333,  0.93333333,  0.93333333,  0.93333333,  0.93333333,\n",
       "         0.93333333,  0.93333333,  0.93333333,  0.93333333,  0.93333333,\n",
       "         0.93333333,  0.93333333,  0.93333333,  0.93333333,  0.93333333,\n",
       "         0.93333333,  0.93333333,  0.93333333,  0.93333333,  0.93333333,\n",
       "         0.93333333,  0.93333333,  0.93333333,  0.93333333,  0.93333333,\n",
       "         0.93333333,  0.93333333,  0.93333333,  0.93333333,  0.93333333,\n",
       "         0.93333333,  0.93333333,  0.93333333,  0.93333333,  0.93333333,\n",
       "         0.93333333,  0.93333333,  0.93333333,  0.93333333,  0.93333333,\n",
       "         0.93333333,  0.93333333,  0.93333333,  0.93333333,  0.93333333]),\n",
       " 'mean_train_score': array([ 0.89833333,  0.985     ,  0.98666667,  0.98833333,  0.98833333,\n",
       "         0.98833333,  0.99      ,  0.99      ,  0.99      ,  0.99      ,\n",
       "         0.99      ,  0.99      ,  0.99      ,  0.99      ,  0.99      ,\n",
       "         0.99      ,  0.99166667,  0.99166667,  0.99166667,  0.99166667,\n",
       "         0.99166667,  0.99333333,  0.99333333,  0.99333333,  0.99333333,\n",
       "         0.99333333,  0.99333333,  0.99333333,  0.99333333,  0.995     ,\n",
       "         0.995     ,  0.995     ,  0.995     ,  0.995     ,  0.99666667,\n",
       "         0.99666667,  0.99833333,  0.99833333,  0.99833333,  0.99833333,\n",
       "         0.99833333,  0.99833333,  0.99833333,  0.99833333,  0.99833333,\n",
       "         0.99833333,  1.        ,  1.        ,  1.        ,  1.        ,\n",
       "         1.        ,  1.        ,  1.        ,  1.        ,  1.        ,\n",
       "         1.        ,  1.        ,  1.        ,  1.        ,  1.        ,\n",
       "         1.        ,  1.        ,  1.        ,  1.        ,  1.        ,\n",
       "         1.        ,  1.        ,  1.        ,  1.        ,  1.        ,\n",
       "         1.        ,  1.        ,  1.        ,  1.        ,  1.        ,\n",
       "         1.        ,  1.        ,  1.        ,  1.        ,  1.        ,\n",
       "         1.        ,  1.        ,  1.        ,  1.        ,  1.        ,\n",
       "         1.        ,  1.        ,  1.        ,  1.        ,  1.        ,\n",
       "         1.        ,  1.        ,  1.        ,  1.        ,  1.        ,\n",
       "         1.        ,  1.        ,  1.        ,  1.        ,  1.        ]),\n",
       " 'param_svm__C': masked_array(data = [0.001 10.102 20.203000000000003 30.304000000000006 40.405000000000001\n",
       "  50.506 60.607000000000006 70.708000000000013 80.809000000000012\n",
       "  90.910000000000011 101.01100000000001 111.11200000000001\n",
       "  121.21300000000002 131.31400000000002 141.41500000000002\n",
       "  151.51600000000002 161.61700000000002 171.71800000000002\n",
       "  181.81900000000002 191.92000000000002 202.02100000000002\n",
       "  212.12200000000001 222.22300000000001 232.32400000000001\n",
       "  242.42500000000004 252.52600000000004 262.62700000000001\n",
       "  272.72800000000001 282.82900000000001 292.93000000000001\n",
       "  303.03100000000001 313.13200000000001 323.233 333.334 343.435 353.536\n",
       "  363.637 373.738 383.839 393.94 404.041 414.142 424.24299999999999\n",
       "  434.34399999999999 444.44499999999999 454.54599999999999\n",
       "  464.64699999999999 474.74799999999999 484.84900000000005\n",
       "  494.95000000000005 505.05100000000004 515.15200000000004\n",
       "  525.25300000000004 535.35400000000004 545.45500000000004\n",
       "  555.55600000000004 565.65700000000004 575.75800000000004\n",
       "  585.85900000000004 595.96000000000004 606.06100000000004\n",
       "  616.16200000000003 626.26300000000003 636.36400000000003\n",
       "  646.46500000000003 656.56600000000003 666.66700000000003\n",
       "  676.76800000000003 686.86900000000003 696.97000000000003\n",
       "  707.07100000000003 717.17200000000003 727.27300000000002\n",
       "  737.37400000000002 747.47500000000002 757.57600000000002\n",
       "  767.67700000000002 777.77800000000002 787.87900000000002\n",
       "  797.98000000000002 808.08100000000002 818.18200000000002\n",
       "  828.28300000000002 838.38400000000001 848.48500000000001\n",
       "  858.58600000000001 868.68700000000001 878.78800000000001\n",
       "  888.88900000000001 898.99000000000001 909.09100000000001\n",
       "  919.19200000000001 929.29300000000001 939.39400000000001 949.495 959.596\n",
       "  969.69700000000012 979.79800000000012 989.89900000000011 1000.0],\n",
       "              mask = [False False False False False False False False False False False False\n",
       "  False False False False False False False False False False False False\n",
       "  False False False False False False False False False False False False\n",
       "  False False False False False False False False False False False False\n",
       "  False False False False False False False False False False False False\n",
       "  False False False False False False False False False False False False\n",
       "  False False False False False False False False False False False False\n",
       "  False False False False False False False False False False False False\n",
       "  False False False False],\n",
       "        fill_value = ?),\n",
       " 'params': ({'svm__C': 0.001},\n",
       "  {'svm__C': 10.102},\n",
       "  {'svm__C': 20.203000000000003},\n",
       "  {'svm__C': 30.304000000000006},\n",
       "  {'svm__C': 40.405000000000001},\n",
       "  {'svm__C': 50.506},\n",
       "  {'svm__C': 60.607000000000006},\n",
       "  {'svm__C': 70.708000000000013},\n",
       "  {'svm__C': 80.809000000000012},\n",
       "  {'svm__C': 90.910000000000011},\n",
       "  {'svm__C': 101.01100000000001},\n",
       "  {'svm__C': 111.11200000000001},\n",
       "  {'svm__C': 121.21300000000002},\n",
       "  {'svm__C': 131.31400000000002},\n",
       "  {'svm__C': 141.41500000000002},\n",
       "  {'svm__C': 151.51600000000002},\n",
       "  {'svm__C': 161.61700000000002},\n",
       "  {'svm__C': 171.71800000000002},\n",
       "  {'svm__C': 181.81900000000002},\n",
       "  {'svm__C': 191.92000000000002},\n",
       "  {'svm__C': 202.02100000000002},\n",
       "  {'svm__C': 212.12200000000001},\n",
       "  {'svm__C': 222.22300000000001},\n",
       "  {'svm__C': 232.32400000000001},\n",
       "  {'svm__C': 242.42500000000004},\n",
       "  {'svm__C': 252.52600000000004},\n",
       "  {'svm__C': 262.62700000000001},\n",
       "  {'svm__C': 272.72800000000001},\n",
       "  {'svm__C': 282.82900000000001},\n",
       "  {'svm__C': 292.93000000000001},\n",
       "  {'svm__C': 303.03100000000001},\n",
       "  {'svm__C': 313.13200000000001},\n",
       "  {'svm__C': 323.233},\n",
       "  {'svm__C': 333.334},\n",
       "  {'svm__C': 343.435},\n",
       "  {'svm__C': 353.536},\n",
       "  {'svm__C': 363.637},\n",
       "  {'svm__C': 373.738},\n",
       "  {'svm__C': 383.839},\n",
       "  {'svm__C': 393.94},\n",
       "  {'svm__C': 404.041},\n",
       "  {'svm__C': 414.142},\n",
       "  {'svm__C': 424.24299999999999},\n",
       "  {'svm__C': 434.34399999999999},\n",
       "  {'svm__C': 444.44499999999999},\n",
       "  {'svm__C': 454.54599999999999},\n",
       "  {'svm__C': 464.64699999999999},\n",
       "  {'svm__C': 474.74799999999999},\n",
       "  {'svm__C': 484.84900000000005},\n",
       "  {'svm__C': 494.95000000000005},\n",
       "  {'svm__C': 505.05100000000004},\n",
       "  {'svm__C': 515.15200000000004},\n",
       "  {'svm__C': 525.25300000000004},\n",
       "  {'svm__C': 535.35400000000004},\n",
       "  {'svm__C': 545.45500000000004},\n",
       "  {'svm__C': 555.55600000000004},\n",
       "  {'svm__C': 565.65700000000004},\n",
       "  {'svm__C': 575.75800000000004},\n",
       "  {'svm__C': 585.85900000000004},\n",
       "  {'svm__C': 595.96000000000004},\n",
       "  {'svm__C': 606.06100000000004},\n",
       "  {'svm__C': 616.16200000000003},\n",
       "  {'svm__C': 626.26300000000003},\n",
       "  {'svm__C': 636.36400000000003},\n",
       "  {'svm__C': 646.46500000000003},\n",
       "  {'svm__C': 656.56600000000003},\n",
       "  {'svm__C': 666.66700000000003},\n",
       "  {'svm__C': 676.76800000000003},\n",
       "  {'svm__C': 686.86900000000003},\n",
       "  {'svm__C': 696.97000000000003},\n",
       "  {'svm__C': 707.07100000000003},\n",
       "  {'svm__C': 717.17200000000003},\n",
       "  {'svm__C': 727.27300000000002},\n",
       "  {'svm__C': 737.37400000000002},\n",
       "  {'svm__C': 747.47500000000002},\n",
       "  {'svm__C': 757.57600000000002},\n",
       "  {'svm__C': 767.67700000000002},\n",
       "  {'svm__C': 777.77800000000002},\n",
       "  {'svm__C': 787.87900000000002},\n",
       "  {'svm__C': 797.98000000000002},\n",
       "  {'svm__C': 808.08100000000002},\n",
       "  {'svm__C': 818.18200000000002},\n",
       "  {'svm__C': 828.28300000000002},\n",
       "  {'svm__C': 838.38400000000001},\n",
       "  {'svm__C': 848.48500000000001},\n",
       "  {'svm__C': 858.58600000000001},\n",
       "  {'svm__C': 868.68700000000001},\n",
       "  {'svm__C': 878.78800000000001},\n",
       "  {'svm__C': 888.88900000000001},\n",
       "  {'svm__C': 898.99000000000001},\n",
       "  {'svm__C': 909.09100000000001},\n",
       "  {'svm__C': 919.19200000000001},\n",
       "  {'svm__C': 929.29300000000001},\n",
       "  {'svm__C': 939.39400000000001},\n",
       "  {'svm__C': 949.495},\n",
       "  {'svm__C': 959.596},\n",
       "  {'svm__C': 969.69700000000012},\n",
       "  {'svm__C': 979.79800000000012},\n",
       "  {'svm__C': 989.89900000000011},\n",
       "  {'svm__C': 1000.0}),\n",
       " 'rank_test_score': array([100,   1,   2,   2,   2,   2,   2,   7,   7,   9,   9,   9,   9,\n",
       "          9,   9,   9,   9,   9,   9,   9,   9,   9,  22,  22,  24,  24,\n",
       "         24,  24,  24,  24,  24,  24,  24,  24,  24,  24,  24,  24,  38,\n",
       "         38,  38,  38,  38,  38,  38,  38,  38,  38,  38,  38,  38,  38,\n",
       "         38,  38,  38,  38,  38,  38,  38,  38,  38,  38,  38,  38,  38,\n",
       "         38,  38,  38,  38,  38,  38,  38,  38,  38,  38,  38,  38,  38,\n",
       "         38,  38,  38,  38,  38,  38,  38,  38,  38,  38,  38,  38,  38,\n",
       "         38,  38,  38,  38,  38,  38,  38,  38,  38], dtype=int32),\n",
       " 'split0_test_score': array([ 0.8       ,  1.        ,  1.        ,  1.        ,  1.        ,\n",
       "         1.        ,  1.        ,  1.        ,  1.        ,  0.96666667,\n",
       "         0.96666667,  0.96666667,  0.96666667,  0.96666667,  0.96666667,\n",
       "         0.96666667,  0.96666667,  0.96666667,  0.96666667,  0.96666667,\n",
       "         0.96666667,  0.96666667,  0.96666667,  0.96666667,  0.96666667,\n",
       "         0.96666667,  0.96666667,  0.96666667,  0.96666667,  0.96666667,\n",
       "         0.96666667,  0.96666667,  0.96666667,  0.96666667,  0.96666667,\n",
       "         0.96666667,  0.96666667,  0.96666667,  0.96666667,  0.96666667,\n",
       "         0.96666667,  0.96666667,  0.96666667,  0.96666667,  0.96666667,\n",
       "         0.96666667,  0.96666667,  0.96666667,  0.96666667,  0.96666667,\n",
       "         0.96666667,  0.96666667,  0.96666667,  0.96666667,  0.96666667,\n",
       "         0.96666667,  0.96666667,  0.96666667,  0.96666667,  0.96666667,\n",
       "         0.96666667,  0.96666667,  0.96666667,  0.96666667,  0.96666667,\n",
       "         0.96666667,  0.96666667,  0.96666667,  0.96666667,  0.96666667,\n",
       "         0.96666667,  0.96666667,  0.96666667,  0.96666667,  0.96666667,\n",
       "         0.96666667,  0.96666667,  0.96666667,  0.96666667,  0.96666667,\n",
       "         0.96666667,  0.96666667,  0.96666667,  0.96666667,  0.96666667,\n",
       "         0.96666667,  0.96666667,  0.96666667,  0.96666667,  0.96666667,\n",
       "         0.96666667,  0.96666667,  0.96666667,  0.96666667,  0.96666667,\n",
       "         0.96666667,  0.96666667,  0.96666667,  0.96666667,  0.96666667]),\n",
       " 'split0_train_score': array([ 0.90833333,  0.98333333,  0.98333333,  0.98333333,  0.98333333,\n",
       "         0.98333333,  0.98333333,  0.98333333,  0.98333333,  0.98333333,\n",
       "         0.98333333,  0.98333333,  0.98333333,  0.98333333,  0.98333333,\n",
       "         0.98333333,  0.99166667,  0.99166667,  0.99166667,  0.99166667,\n",
       "         0.99166667,  0.99166667,  0.99166667,  0.99166667,  0.99166667,\n",
       "         0.99166667,  0.99166667,  0.99166667,  0.99166667,  0.99166667,\n",
       "         0.99166667,  0.99166667,  0.99166667,  0.99166667,  1.        ,\n",
       "         1.        ,  1.        ,  1.        ,  1.        ,  1.        ,\n",
       "         1.        ,  1.        ,  1.        ,  1.        ,  1.        ,\n",
       "         1.        ,  1.        ,  1.        ,  1.        ,  1.        ,\n",
       "         1.        ,  1.        ,  1.        ,  1.        ,  1.        ,\n",
       "         1.        ,  1.        ,  1.        ,  1.        ,  1.        ,\n",
       "         1.        ,  1.        ,  1.        ,  1.        ,  1.        ,\n",
       "         1.        ,  1.        ,  1.        ,  1.        ,  1.        ,\n",
       "         1.        ,  1.        ,  1.        ,  1.        ,  1.        ,\n",
       "         1.        ,  1.        ,  1.        ,  1.        ,  1.        ,\n",
       "         1.        ,  1.        ,  1.        ,  1.        ,  1.        ,\n",
       "         1.        ,  1.        ,  1.        ,  1.        ,  1.        ,\n",
       "         1.        ,  1.        ,  1.        ,  1.        ,  1.        ,\n",
       "         1.        ,  1.        ,  1.        ,  1.        ,  1.        ]),\n",
       " 'split1_test_score': array([ 0.93333333,  0.96666667,  0.96666667,  0.96666667,  0.96666667,\n",
       "         0.96666667,  0.96666667,  0.93333333,  0.93333333,  0.93333333,\n",
       "         0.93333333,  0.93333333,  0.93333333,  0.93333333,  0.93333333,\n",
       "         0.93333333,  0.93333333,  0.93333333,  0.93333333,  0.93333333,\n",
       "         0.93333333,  0.93333333,  0.93333333,  0.93333333,  0.9       ,\n",
       "         0.9       ,  0.9       ,  0.9       ,  0.9       ,  0.9       ,\n",
       "         0.9       ,  0.9       ,  0.9       ,  0.9       ,  0.9       ,\n",
       "         0.9       ,  0.9       ,  0.9       ,  0.86666667,  0.86666667,\n",
       "         0.86666667,  0.86666667,  0.86666667,  0.86666667,  0.86666667,\n",
       "         0.86666667,  0.86666667,  0.86666667,  0.86666667,  0.86666667,\n",
       "         0.86666667,  0.86666667,  0.86666667,  0.86666667,  0.86666667,\n",
       "         0.86666667,  0.86666667,  0.86666667,  0.86666667,  0.86666667,\n",
       "         0.86666667,  0.86666667,  0.86666667,  0.86666667,  0.86666667,\n",
       "         0.86666667,  0.86666667,  0.86666667,  0.86666667,  0.86666667,\n",
       "         0.86666667,  0.86666667,  0.86666667,  0.86666667,  0.86666667,\n",
       "         0.86666667,  0.86666667,  0.86666667,  0.86666667,  0.86666667,\n",
       "         0.86666667,  0.86666667,  0.86666667,  0.86666667,  0.86666667,\n",
       "         0.86666667,  0.86666667,  0.86666667,  0.86666667,  0.86666667,\n",
       "         0.86666667,  0.86666667,  0.86666667,  0.86666667,  0.86666667,\n",
       "         0.86666667,  0.86666667,  0.86666667,  0.86666667,  0.86666667]),\n",
       " 'split1_train_score': array([ 0.88333333,  0.98333333,  0.98333333,  0.98333333,  0.99166667,\n",
       "         0.99166667,  0.99166667,  0.99166667,  0.99166667,  0.99166667,\n",
       "         0.99166667,  0.99166667,  0.99166667,  0.99166667,  0.99166667,\n",
       "         0.99166667,  0.99166667,  0.99166667,  0.99166667,  0.99166667,\n",
       "         0.99166667,  0.99166667,  0.99166667,  0.99166667,  0.99166667,\n",
       "         0.99166667,  0.99166667,  0.99166667,  0.99166667,  0.99166667,\n",
       "         0.99166667,  0.99166667,  0.99166667,  0.99166667,  0.99166667,\n",
       "         0.99166667,  1.        ,  1.        ,  1.        ,  1.        ,\n",
       "         1.        ,  1.        ,  1.        ,  1.        ,  1.        ,\n",
       "         1.        ,  1.        ,  1.        ,  1.        ,  1.        ,\n",
       "         1.        ,  1.        ,  1.        ,  1.        ,  1.        ,\n",
       "         1.        ,  1.        ,  1.        ,  1.        ,  1.        ,\n",
       "         1.        ,  1.        ,  1.        ,  1.        ,  1.        ,\n",
       "         1.        ,  1.        ,  1.        ,  1.        ,  1.        ,\n",
       "         1.        ,  1.        ,  1.        ,  1.        ,  1.        ,\n",
       "         1.        ,  1.        ,  1.        ,  1.        ,  1.        ,\n",
       "         1.        ,  1.        ,  1.        ,  1.        ,  1.        ,\n",
       "         1.        ,  1.        ,  1.        ,  1.        ,  1.        ,\n",
       "         1.        ,  1.        ,  1.        ,  1.        ,  1.        ,\n",
       "         1.        ,  1.        ,  1.        ,  1.        ,  1.        ]),\n",
       " 'split2_test_score': array([ 0.86666667,  0.96666667,  0.93333333,  0.93333333,  0.93333333,\n",
       "         0.93333333,  0.93333333,  0.93333333,  0.93333333,  0.93333333,\n",
       "         0.93333333,  0.93333333,  0.93333333,  0.93333333,  0.93333333,\n",
       "         0.93333333,  0.93333333,  0.93333333,  0.93333333,  0.93333333,\n",
       "         0.93333333,  0.93333333,  0.9       ,  0.9       ,  0.9       ,\n",
       "         0.9       ,  0.9       ,  0.9       ,  0.9       ,  0.9       ,\n",
       "         0.9       ,  0.9       ,  0.9       ,  0.9       ,  0.9       ,\n",
       "         0.9       ,  0.9       ,  0.9       ,  0.9       ,  0.9       ,\n",
       "         0.9       ,  0.9       ,  0.9       ,  0.9       ,  0.9       ,\n",
       "         0.9       ,  0.9       ,  0.9       ,  0.9       ,  0.9       ,\n",
       "         0.9       ,  0.9       ,  0.9       ,  0.9       ,  0.9       ,\n",
       "         0.9       ,  0.9       ,  0.9       ,  0.9       ,  0.9       ,\n",
       "         0.9       ,  0.9       ,  0.9       ,  0.9       ,  0.9       ,\n",
       "         0.9       ,  0.9       ,  0.9       ,  0.9       ,  0.9       ,\n",
       "         0.9       ,  0.9       ,  0.9       ,  0.9       ,  0.9       ,\n",
       "         0.9       ,  0.9       ,  0.9       ,  0.9       ,  0.9       ,\n",
       "         0.9       ,  0.9       ,  0.9       ,  0.9       ,  0.9       ,\n",
       "         0.9       ,  0.9       ,  0.9       ,  0.9       ,  0.9       ,\n",
       "         0.9       ,  0.9       ,  0.9       ,  0.9       ,  0.9       ,\n",
       "         0.9       ,  0.9       ,  0.9       ,  0.9       ,  0.9       ]),\n",
       " 'split2_train_score': array([ 0.9       ,  0.99166667,  0.99166667,  0.99166667,  0.99166667,\n",
       "         0.99166667,  0.99166667,  0.99166667,  0.99166667,  0.99166667,\n",
       "         0.99166667,  0.99166667,  0.99166667,  0.99166667,  0.99166667,\n",
       "         0.99166667,  0.99166667,  0.99166667,  0.99166667,  0.99166667,\n",
       "         0.99166667,  0.99166667,  0.99166667,  0.99166667,  0.99166667,\n",
       "         0.99166667,  0.99166667,  0.99166667,  0.99166667,  1.        ,\n",
       "         1.        ,  1.        ,  1.        ,  1.        ,  1.        ,\n",
       "         1.        ,  1.        ,  1.        ,  1.        ,  1.        ,\n",
       "         1.        ,  1.        ,  1.        ,  1.        ,  1.        ,\n",
       "         1.        ,  1.        ,  1.        ,  1.        ,  1.        ,\n",
       "         1.        ,  1.        ,  1.        ,  1.        ,  1.        ,\n",
       "         1.        ,  1.        ,  1.        ,  1.        ,  1.        ,\n",
       "         1.        ,  1.        ,  1.        ,  1.        ,  1.        ,\n",
       "         1.        ,  1.        ,  1.        ,  1.        ,  1.        ,\n",
       "         1.        ,  1.        ,  1.        ,  1.        ,  1.        ,\n",
       "         1.        ,  1.        ,  1.        ,  1.        ,  1.        ,\n",
       "         1.        ,  1.        ,  1.        ,  1.        ,  1.        ,\n",
       "         1.        ,  1.        ,  1.        ,  1.        ,  1.        ,\n",
       "         1.        ,  1.        ,  1.        ,  1.        ,  1.        ,\n",
       "         1.        ,  1.        ,  1.        ,  1.        ,  1.        ]),\n",
       " 'split3_test_score': array([ 0.86666667,  0.93333333,  0.93333333,  0.93333333,  0.93333333,\n",
       "         0.93333333,  0.93333333,  0.93333333,  0.93333333,  0.93333333,\n",
       "         0.93333333,  0.93333333,  0.93333333,  0.93333333,  0.93333333,\n",
       "         0.93333333,  0.93333333,  0.93333333,  0.93333333,  0.93333333,\n",
       "         0.93333333,  0.93333333,  0.93333333,  0.93333333,  0.93333333,\n",
       "         0.93333333,  0.93333333,  0.93333333,  0.93333333,  0.93333333,\n",
       "         0.93333333,  0.93333333,  0.93333333,  0.93333333,  0.93333333,\n",
       "         0.93333333,  0.93333333,  0.93333333,  0.93333333,  0.93333333,\n",
       "         0.93333333,  0.93333333,  0.93333333,  0.93333333,  0.93333333,\n",
       "         0.93333333,  0.93333333,  0.93333333,  0.93333333,  0.93333333,\n",
       "         0.93333333,  0.93333333,  0.93333333,  0.93333333,  0.93333333,\n",
       "         0.93333333,  0.93333333,  0.93333333,  0.93333333,  0.93333333,\n",
       "         0.93333333,  0.93333333,  0.93333333,  0.93333333,  0.93333333,\n",
       "         0.93333333,  0.93333333,  0.93333333,  0.93333333,  0.93333333,\n",
       "         0.93333333,  0.93333333,  0.93333333,  0.93333333,  0.93333333,\n",
       "         0.93333333,  0.93333333,  0.93333333,  0.93333333,  0.93333333,\n",
       "         0.93333333,  0.93333333,  0.93333333,  0.93333333,  0.93333333,\n",
       "         0.93333333,  0.93333333,  0.93333333,  0.93333333,  0.93333333,\n",
       "         0.93333333,  0.93333333,  0.93333333,  0.93333333,  0.93333333,\n",
       "         0.93333333,  0.93333333,  0.93333333,  0.93333333,  0.93333333]),\n",
       " 'split3_train_score': array([ 0.90833333,  0.98333333,  0.99166667,  1.        ,  1.        ,\n",
       "         1.        ,  1.        ,  1.        ,  1.        ,  1.        ,\n",
       "         1.        ,  1.        ,  1.        ,  1.        ,  1.        ,\n",
       "         1.        ,  1.        ,  1.        ,  1.        ,  1.        ,\n",
       "         1.        ,  1.        ,  1.        ,  1.        ,  1.        ,\n",
       "         1.        ,  1.        ,  1.        ,  1.        ,  1.        ,\n",
       "         1.        ,  1.        ,  1.        ,  1.        ,  1.        ,\n",
       "         1.        ,  1.        ,  1.        ,  1.        ,  1.        ,\n",
       "         1.        ,  1.        ,  1.        ,  1.        ,  1.        ,\n",
       "         1.        ,  1.        ,  1.        ,  1.        ,  1.        ,\n",
       "         1.        ,  1.        ,  1.        ,  1.        ,  1.        ,\n",
       "         1.        ,  1.        ,  1.        ,  1.        ,  1.        ,\n",
       "         1.        ,  1.        ,  1.        ,  1.        ,  1.        ,\n",
       "         1.        ,  1.        ,  1.        ,  1.        ,  1.        ,\n",
       "         1.        ,  1.        ,  1.        ,  1.        ,  1.        ,\n",
       "         1.        ,  1.        ,  1.        ,  1.        ,  1.        ,\n",
       "         1.        ,  1.        ,  1.        ,  1.        ,  1.        ,\n",
       "         1.        ,  1.        ,  1.        ,  1.        ,  1.        ,\n",
       "         1.        ,  1.        ,  1.        ,  1.        ,  1.        ,\n",
       "         1.        ,  1.        ,  1.        ,  1.        ,  1.        ]),\n",
       " 'split4_test_score': array([ 0.96666667,  1.        ,  1.        ,  1.        ,  1.        ,\n",
       "         1.        ,  1.        ,  1.        ,  1.        ,  1.        ,\n",
       "         1.        ,  1.        ,  1.        ,  1.        ,  1.        ,\n",
       "         1.        ,  1.        ,  1.        ,  1.        ,  1.        ,\n",
       "         1.        ,  1.        ,  1.        ,  1.        ,  1.        ,\n",
       "         1.        ,  1.        ,  1.        ,  1.        ,  1.        ,\n",
       "         1.        ,  1.        ,  1.        ,  1.        ,  1.        ,\n",
       "         1.        ,  1.        ,  1.        ,  1.        ,  1.        ,\n",
       "         1.        ,  1.        ,  1.        ,  1.        ,  1.        ,\n",
       "         1.        ,  1.        ,  1.        ,  1.        ,  1.        ,\n",
       "         1.        ,  1.        ,  1.        ,  1.        ,  1.        ,\n",
       "         1.        ,  1.        ,  1.        ,  1.        ,  1.        ,\n",
       "         1.        ,  1.        ,  1.        ,  1.        ,  1.        ,\n",
       "         1.        ,  1.        ,  1.        ,  1.        ,  1.        ,\n",
       "         1.        ,  1.        ,  1.        ,  1.        ,  1.        ,\n",
       "         1.        ,  1.        ,  1.        ,  1.        ,  1.        ,\n",
       "         1.        ,  1.        ,  1.        ,  1.        ,  1.        ,\n",
       "         1.        ,  1.        ,  1.        ,  1.        ,  1.        ,\n",
       "         1.        ,  1.        ,  1.        ,  1.        ,  1.        ,\n",
       "         1.        ,  1.        ,  1.        ,  1.        ,  1.        ]),\n",
       " 'split4_train_score': array([ 0.89166667,  0.98333333,  0.98333333,  0.98333333,  0.975     ,\n",
       "         0.975     ,  0.98333333,  0.98333333,  0.98333333,  0.98333333,\n",
       "         0.98333333,  0.98333333,  0.98333333,  0.98333333,  0.98333333,\n",
       "         0.98333333,  0.98333333,  0.98333333,  0.98333333,  0.98333333,\n",
       "         0.98333333,  0.99166667,  0.99166667,  0.99166667,  0.99166667,\n",
       "         0.99166667,  0.99166667,  0.99166667,  0.99166667,  0.99166667,\n",
       "         0.99166667,  0.99166667,  0.99166667,  0.99166667,  0.99166667,\n",
       "         0.99166667,  0.99166667,  0.99166667,  0.99166667,  0.99166667,\n",
       "         0.99166667,  0.99166667,  0.99166667,  0.99166667,  0.99166667,\n",
       "         0.99166667,  1.        ,  1.        ,  1.        ,  1.        ,\n",
       "         1.        ,  1.        ,  1.        ,  1.        ,  1.        ,\n",
       "         1.        ,  1.        ,  1.        ,  1.        ,  1.        ,\n",
       "         1.        ,  1.        ,  1.        ,  1.        ,  1.        ,\n",
       "         1.        ,  1.        ,  1.        ,  1.        ,  1.        ,\n",
       "         1.        ,  1.        ,  1.        ,  1.        ,  1.        ,\n",
       "         1.        ,  1.        ,  1.        ,  1.        ,  1.        ,\n",
       "         1.        ,  1.        ,  1.        ,  1.        ,  1.        ,\n",
       "         1.        ,  1.        ,  1.        ,  1.        ,  1.        ,\n",
       "         1.        ,  1.        ,  1.        ,  1.        ,  1.        ,\n",
       "         1.        ,  1.        ,  1.        ,  1.        ,  1.        ]),\n",
       " 'std_fit_time': array([  1.88206284e-03,   8.62287053e-04,   1.28336144e-03,\n",
       "          1.37396372e-03,   1.00514332e-04,   5.29268849e-04,\n",
       "          4.90739342e-05,   4.27854479e-05,   6.46679768e-04,\n",
       "          6.98056702e-05,   4.96054830e-04,   3.51437720e-05,\n",
       "          5.43464210e-04,   3.05174388e-04,   6.76931774e-05,\n",
       "          9.83720193e-04,   5.79005594e-05,   6.52077117e-04,\n",
       "          9.60141427e-05,   6.96583201e-05,   8.54772111e-04,\n",
       "          9.19009580e-05,   5.92439795e-04,   3.05554758e-04,\n",
       "          1.11520096e-03,   2.39612831e-04,   8.04378353e-05,\n",
       "          1.33889489e-03,   1.15312227e-03,   1.05481036e-04,\n",
       "          7.39658328e-04,   9.14653470e-05,   6.89836917e-04,\n",
       "          1.42988954e-04,   1.24525583e-04,   6.32556538e-04,\n",
       "          1.24526149e-04,   5.29433686e-04,   3.20368750e-04,\n",
       "          2.93654635e-04,   1.11220322e-03,   3.09604290e-04,\n",
       "          6.37059822e-04,   3.29802427e-04,   7.00602477e-04,\n",
       "          1.84249940e-04,   2.88322442e-04,   8.87957514e-04,\n",
       "          3.74413417e-04,   8.72494364e-04,   1.38614897e-04,\n",
       "          1.48604401e-04,   6.79357425e-04,   1.27438422e-04,\n",
       "          5.12309844e-04,   3.34409098e-04,   8.28838705e-04,\n",
       "          4.67086388e-04,   1.44441571e-04,   6.99568547e-04,\n",
       "          1.22109925e-04,   1.03569437e-03,   2.26875322e-04,\n",
       "          2.18098071e-04,   8.71552134e-04,   5.53449658e-04,\n",
       "          5.23137318e-04,   1.46193296e-04,   7.04070650e-04,\n",
       "          1.76705236e-04,   1.46224772e-04,   6.00500346e-04,\n",
       "          2.93295966e-04,   7.00788924e-04,   1.50259371e-04,\n",
       "          1.10049595e-04,   7.61417205e-04,   1.20843463e-04,\n",
       "          5.84663455e-04,   1.40586167e-04,   7.14887725e-04,\n",
       "          1.90426315e-04,   1.29913266e-04,   7.63915010e-04,\n",
       "          1.53511397e-04,   4.11403080e-04,   1.77321821e-04,\n",
       "          1.90162754e-04,   5.86994967e-04,   1.50052736e-04,\n",
       "          4.30821620e-04,   2.18959012e-04,   8.42492222e-04,\n",
       "          1.66600762e-04,   2.60802813e-04,   1.89269845e-03,\n",
       "          1.42807387e-04,   4.74589185e-04,   2.79989733e-04,\n",
       "          1.37295686e-04]),\n",
       " 'std_score_time': array([  1.76346385e-04,   2.05980097e-04,   1.75103058e-04,\n",
       "          2.23733041e-04,   4.34692453e-05,   7.77014306e-05,\n",
       "          8.29395152e-06,   5.30683554e-06,   9.79336463e-05,\n",
       "          7.97559148e-06,   7.64007119e-05,   8.46919711e-06,\n",
       "          8.55240377e-05,   1.34013520e-04,   7.38189509e-06,\n",
       "          7.65108066e-05,   8.02295204e-05,   1.13031188e-04,\n",
       "          1.83054549e-05,   6.31768747e-06,   1.10519559e-04,\n",
       "          7.79012413e-06,   8.23238329e-05,   1.36454716e-04,\n",
       "          2.00060949e-04,   1.76525412e-04,   5.15690072e-06,\n",
       "          1.09865537e-04,   2.23650434e-04,   6.61172162e-06,\n",
       "          1.04806963e-04,   1.11624717e-05,   9.50917073e-05,\n",
       "          1.41693668e-05,   3.83135022e-06,   8.75177936e-05,\n",
       "          9.73425423e-06,   8.17999656e-05,   9.63026917e-05,\n",
       "          2.04643709e-05,   1.93907048e-04,   6.05151255e-06,\n",
       "          1.01241906e-04,   4.85578522e-06,   1.04682493e-04,\n",
       "          1.25350286e-04,   3.17614355e-05,   1.11346776e-04,\n",
       "          1.02046204e-04,   9.45746130e-05,   8.34860027e-06,\n",
       "          1.07162189e-05,   8.99632126e-05,   6.46918841e-06,\n",
       "          7.40581070e-05,   1.22006090e-04,   1.27769671e-04,\n",
       "          6.27261837e-05,   8.89323671e-06,   1.29073697e-04,\n",
       "          1.00760600e-04,   2.19667550e-04,   2.95485180e-05,\n",
       "          2.94902098e-05,   1.11375177e-04,   2.84092520e-05,\n",
       "          1.08114916e-04,   1.00577606e-05,   9.60689492e-05,\n",
       "          1.61017113e-05,   6.84540555e-05,   8.36891190e-05,\n",
       "          5.25911828e-05,   1.35370164e-04,   3.40825509e-05,\n",
       "          4.25189574e-05,   8.81600338e-05,   3.09666730e-05,\n",
       "          9.16574049e-05,   1.05771898e-05,   9.35131769e-05,\n",
       "          3.04767216e-05,   3.76118438e-05,   1.13626543e-04,\n",
       "          3.53561168e-05,   6.84782986e-05,   1.37446605e-05,\n",
       "          1.59694181e-05,   9.06817661e-05,   2.52401398e-05,\n",
       "          4.75852904e-05,   3.77776025e-05,   1.34980076e-04,\n",
       "          6.42507593e-05,   1.00046572e-04,   2.80664042e-04,\n",
       "          8.06489390e-06,   1.05789373e-04,   5.35056338e-05,\n",
       "          5.13098496e-05]),\n",
       " 'std_test_score': array([ 0.05811865,  0.02494438,  0.02981424,  0.02981424,  0.02981424,\n",
       "         0.02981424,  0.02981424,  0.03265986,  0.03265986,  0.02666667,\n",
       "         0.02666667,  0.02666667,  0.02666667,  0.02666667,  0.02666667,\n",
       "         0.02666667,  0.02666667,  0.02666667,  0.02666667,  0.02666667,\n",
       "         0.02666667,  0.02666667,  0.03399346,  0.03399346,  0.03887301,\n",
       "         0.03887301,  0.03887301,  0.03887301,  0.03887301,  0.03887301,\n",
       "         0.03887301,  0.03887301,  0.03887301,  0.03887301,  0.03887301,\n",
       "         0.03887301,  0.03887301,  0.03887301,  0.04714045,  0.04714045,\n",
       "         0.04714045,  0.04714045,  0.04714045,  0.04714045,  0.04714045,\n",
       "         0.04714045,  0.04714045,  0.04714045,  0.04714045,  0.04714045,\n",
       "         0.04714045,  0.04714045,  0.04714045,  0.04714045,  0.04714045,\n",
       "         0.04714045,  0.04714045,  0.04714045,  0.04714045,  0.04714045,\n",
       "         0.04714045,  0.04714045,  0.04714045,  0.04714045,  0.04714045,\n",
       "         0.04714045,  0.04714045,  0.04714045,  0.04714045,  0.04714045,\n",
       "         0.04714045,  0.04714045,  0.04714045,  0.04714045,  0.04714045,\n",
       "         0.04714045,  0.04714045,  0.04714045,  0.04714045,  0.04714045,\n",
       "         0.04714045,  0.04714045,  0.04714045,  0.04714045,  0.04714045,\n",
       "         0.04714045,  0.04714045,  0.04714045,  0.04714045,  0.04714045,\n",
       "         0.04714045,  0.04714045,  0.04714045,  0.04714045,  0.04714045,\n",
       "         0.04714045,  0.04714045,  0.04714045,  0.04714045,  0.04714045]),\n",
       " 'std_train_score': array([ 0.00971825,  0.00333333,  0.00408248,  0.00666667,  0.00849837,\n",
       "         0.00849837,  0.0062361 ,  0.0062361 ,  0.0062361 ,  0.0062361 ,\n",
       "         0.0062361 ,  0.0062361 ,  0.0062361 ,  0.0062361 ,  0.0062361 ,\n",
       "         0.0062361 ,  0.00527046,  0.00527046,  0.00527046,  0.00527046,\n",
       "         0.00527046,  0.00333333,  0.00333333,  0.00333333,  0.00333333,\n",
       "         0.00333333,  0.00333333,  0.00333333,  0.00333333,  0.00408248,\n",
       "         0.00408248,  0.00408248,  0.00408248,  0.00408248,  0.00408248,\n",
       "         0.00408248,  0.00333333,  0.00333333,  0.00333333,  0.00333333,\n",
       "         0.00333333,  0.00333333,  0.00333333,  0.00333333,  0.00333333,\n",
       "         0.00333333,  0.        ,  0.        ,  0.        ,  0.        ,\n",
       "         0.        ,  0.        ,  0.        ,  0.        ,  0.        ,\n",
       "         0.        ,  0.        ,  0.        ,  0.        ,  0.        ,\n",
       "         0.        ,  0.        ,  0.        ,  0.        ,  0.        ,\n",
       "         0.        ,  0.        ,  0.        ,  0.        ,  0.        ,\n",
       "         0.        ,  0.        ,  0.        ,  0.        ,  0.        ,\n",
       "         0.        ,  0.        ,  0.        ,  0.        ,  0.        ,\n",
       "         0.        ,  0.        ,  0.        ,  0.        ,  0.        ,\n",
       "         0.        ,  0.        ,  0.        ,  0.        ,  0.        ,\n",
       "         0.        ,  0.        ,  0.        ,  0.        ,  0.        ,\n",
       "         0.        ,  0.        ,  0.        ,  0.        ,  0.        ])}"
      ]
     },
     "execution_count": 16,
     "metadata": {},
     "output_type": "execute_result"
    }
   ],
   "source": [
    "grid_search.cv_results_"
   ]
  },
  {
   "cell_type": "markdown",
   "metadata": {},
   "source": [
    "## Exercise\n",
    "\n",
    "Using the grid_search.cv_results_ from the GridSearchCV, plot the same figure as above which showing the parameter C vs. CV score. "
   ]
  },
  {
   "cell_type": "code",
   "execution_count": 17,
   "metadata": {
    "collapsed": false
   },
   "outputs": [
    {
     "ename": "SyntaxError",
     "evalue": "invalid syntax (<ipython-input-17-143e34814304>, line 6)",
     "output_type": "error",
     "traceback": [
      "\u001b[0;36m  File \u001b[0;32m\"<ipython-input-17-143e34814304>\"\u001b[0;36m, line \u001b[0;32m6\u001b[0m\n\u001b[0;31m    C_s =\u001b[0m\n\u001b[0m          ^\u001b[0m\n\u001b[0;31mSyntaxError\u001b[0m\u001b[0;31m:\u001b[0m invalid syntax\n"
     ]
    }
   ],
   "source": [
    "# Do the plotting\n",
    "plt.figure(1, figsize=(10, 8))\n",
    "plt.clf()\n",
    "\n",
    "## Your solution\n",
    "C_s = \n",
    "scores = \n",
    "scores_std = \n",
    "\n",
    "plt.semilogx(C_s, scores)\n",
    "plt.semilogx(C_s, np.array(scores) + np.array(scores_std), 'b--')\n",
    "plt.semilogx(C_s, np.array(scores) - np.array(scores_std), 'b--')\n",
    "locs, labels = plt.yticks()\n",
    "plt.yticks(locs, list(map(lambda x: \"%g\" % x, locs)))\n",
    "plt.ylabel('CV score')\n",
    "plt.xlabel('Parameter C')\n",
    "plt.ylim(0.82, 1.04)\n",
    "plt.show()"
   ]
  },
  {
   "cell_type": "code",
   "execution_count": null,
   "metadata": {
    "collapsed": true
   },
   "outputs": [],
   "source": [
    "%load ../solutions/solution_05.py"
   ]
  }
 ],
 "metadata": {
  "kernelspec": {
   "display_name": "cdips2017",
   "language": "python",
   "name": "cdips2017"
  },
  "language_info": {
   "codemirror_mode": {
    "name": "ipython",
    "version": 3
   },
   "file_extension": ".py",
   "mimetype": "text/x-python",
   "name": "python",
   "nbconvert_exporter": "python",
   "pygments_lexer": "ipython3",
   "version": "3.6.1"
  }
 },
 "nbformat": 4,
 "nbformat_minor": 2
}
